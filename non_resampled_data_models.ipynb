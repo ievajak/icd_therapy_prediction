{
 "cells": [
  {
   "cell_type": "markdown",
   "metadata": {},
   "source": [
    "# Non-resampled Data Models - One Interval Per Patient\n",
    "XGBoost, 1D-CNN  "
   ]
  },
  {
   "cell_type": "markdown",
   "metadata": {},
   "source": [
    "### Imports"
   ]
  },
  {
   "cell_type": "code",
   "execution_count": 54,
   "metadata": {},
   "outputs": [],
   "source": [
    "# import necessary libraries\n",
    "import pandas as pd\n",
    "import numpy as np\n",
    "import os\n",
    "from statistics import mean\n",
    "import matplotlib.pyplot as plt\n",
    "\n",
    "from sklearn.ensemble import RandomForestClassifier\n",
    "from sklearn.metrics import roc_auc_score, accuracy_score, auc, roc_curve, confusion_matrix\n",
    "\n",
    "from sklearn.model_selection import StratifiedKFold, cross_val_score\n",
    "import xgboost as xgb\n",
    "import shap\n",
    "\n",
    "from sklearn.base import BaseEstimator,TransformerMixin\n",
    "from sklearn.preprocessing import MinMaxScaler\n",
    "from sklearn.pipeline import Pipeline\n",
    "import tensorflow as tf\n",
    "from scikeras.wrappers import KerasClassifier\n",
    "from tensorflow.keras.models import Sequential\n",
    "from tensorflow.keras.layers import Conv1D, Dropout, Flatten, Dense"
   ]
  },
  {
   "cell_type": "code",
   "execution_count": 55,
   "metadata": {},
   "outputs": [],
   "source": [
    "# Seed value for the project.\n",
    "seed_value = 42"
   ]
  },
  {
   "cell_type": "code",
   "execution_count": 56,
   "metadata": {},
   "outputs": [],
   "source": [
    "# Outcome variables - as decided with the host organisation.\n",
    "# These values correspond to a ventricular fibrillation.\n",
    "OUTCOMES = [\n",
    "'ATP in VT/VF delivered',\n",
    "'ATP One Shot delivered',\n",
    "'VT1 therapy episodes',\n",
    "'VF episodes',\n",
    "'ATP in VT zones started',\n",
    "'ATP One Shot started',\n",
    "'ATP in VT zones successful',\n",
    "'ATP One Shot successful',\n",
    "'Shocks started',\n",
    "'Shocks aborted',\n",
    "'Shocks successful']\n",
    "\n",
    "# Feature variables specific to patients with single chamber ICDs (ventricular).\n",
    "VENTR_FEATURES = ['RV pacing impedance [ohm]',\n",
    " 'RV sensing amplitude (daily mean) [mV]',\n",
    " 'RV sensing amplitude (daily min.) [mV]',\n",
    " 'Daily shock lead impedance [ohm]',\n",
    " 'Right ven. pacing (RVp) [%]',\n",
    " 'VT1 monitoring episodes',\n",
    " 'VT1 therapy episodes',\n",
    " 'VT2 episodes',\n",
    " 'VF episodes',\n",
    " 'Episodes during temporary program',\n",
    " 'ATP in VT zones started',\n",
    " 'ATP in VT zones successful',\n",
    " 'ATP One Shot started',\n",
    " 'ATP One Shot successful',\n",
    " 'Shocks started',\n",
    " 'Shocks aborted',\n",
    " 'Shocks successful',\n",
    " 'Ineffective ven. max. energy shocks',\n",
    " 'Mean ventricular heart rate [bpm]',\n",
    " 'Mean ventricular heart rate at rest [bpm]',\n",
    " 'Patient activity [% of day]',\n",
    " 'ATP in VT/VF delivered',\n",
    " 'ATP One Shot delivered']"
   ]
  },
  {
   "cell_type": "markdown",
   "metadata": {},
   "source": [
    "### Importing Data"
   ]
  },
  {
   "cell_type": "code",
   "execution_count": 57,
   "metadata": {},
   "outputs": [],
   "source": [
    "outcome_df = pd.read_csv(os.getcwd()+'/cleaned_df.csv')"
   ]
  },
  {
   "cell_type": "markdown",
   "metadata": {},
   "source": [
    "### Functions\n",
    "**DataReshaper()** - class - reshapes a 3D dataset into 2D (sample, day x feature)  \n",
    "**split_xgb()** - splits the data into predetermied window intervals (1 per patient)  \n",
    "**running_one_sample_model()** - function that runs the models and collects accuracy metrics  "
   ]
  },
  {
   "cell_type": "code",
   "execution_count": 58,
   "metadata": {},
   "outputs": [],
   "source": [
    "# Reshaper 2 returns a 2D df with patient_id and index in columns. \n",
    "class DataReshaper4(BaseEstimator, TransformerMixin):\n",
    "    def __init__(self):\n",
    "        '''\n",
    "        Converts 3d np array into 2d np array.\n",
    "        '''\n",
    "        pass\n",
    "\n",
    "    def fit(self, X, y=None):\n",
    "        return self\n",
    "\n",
    "    def transform(self, X):\n",
    "        num_samples, num_time_steps, num_features = X.shape\n",
    "        reshaped = X.reshape(num_samples, num_time_steps * num_features)\n",
    "        return reshaped"
   ]
  },
  {
   "cell_type": "code",
   "execution_count": 59,
   "metadata": {},
   "outputs": [],
   "source": [
    "def split_xgb(df, window_size=30):\n",
    "    \"\"\"\n",
    "    Splits the input DataFrame based on specified conditions for generating\n",
    "    training data for the XGBoost model.\n",
    "\n",
    "    Parameters:\n",
    "    -----------\n",
    "    df - pd.DataFrame\n",
    "        The input DataFrame containing patient data.\n",
    "    window_size - int\n",
    "        The size of the window to extract data before the 'shock' event. \n",
    "        Default is 30.\n",
    "\n",
    "    Returns:\n",
    "    --------\n",
    "    new_df - pd.DataFrame\n",
    "        A new DataFrame containing the extracted input data.\n",
    "    outcome - list\n",
    "        A list of outcome labels (1 for ICD therapy, 0 for non-cases).\n",
    "    \"\"\"\n",
    "    outcome = []\n",
    "    new_df = pd.DataFrame()\n",
    "    pt_id = df['patient_id'].unique()\n",
    "    \n",
    "    for n in pt_id:\n",
    "        pt_data = df[df['patient_id'] == n]\n",
    "        is_case = pt_data['case'].iloc[0] == 1\n",
    "\n",
    "        if is_case:\n",
    "            for i, row in pt_data.iterrows():\n",
    "                if row['shock'] > 0 and row['index'] > window_size:\n",
    "                    inp_df = df.loc[i - (window_size):i - 1].copy()\n",
    "                    new_df = pd.concat([new_df, inp_df])\n",
    "                    outcome.append(1)\n",
    "                    break\n",
    "        else:\n",
    "            mid_index = len(pt_data) // 2\n",
    "            inp_df = pt_data.iloc[mid_index - (window_size+1):mid_index - 1].copy()\n",
    "            outcome.append(0)\n",
    "            new_df = pd.concat([new_df, inp_df])\n",
    "\n",
    "\n",
    "    return new_df, outcome"
   ]
  },
  {
   "cell_type": "code",
   "execution_count": 60,
   "metadata": {},
   "outputs": [],
   "source": [
    "def running_one_sample_model(X_all_extr, y_all_extr, classifier, n_splits=5): \n",
    "    '''\n",
    "    Runs the specified classifier using cross-validation and calculates various\n",
    "    evaluation metrics.\n",
    "\n",
    "    Parameters:\n",
    "    -----------\n",
    "    X_all_extr - numpy array\n",
    "        Features for all observations.\n",
    "    y_all_extr - numpy array\n",
    "        Corresponding target labels.\n",
    "    classifier - sklearn classifier\n",
    "        The classifier to be evaluated.\n",
    "    n_splits - int, optional\n",
    "        Number of splits for cross-validation. Default is 5.\n",
    "\n",
    "    Returns:\n",
    "    -------\n",
    "    Tuple containing:\n",
    "    - predicted_proba - list of numpy arrays\n",
    "        Predicted probabilities for each fold.\n",
    "    - observed - list of numpy arrays\n",
    "        True labels for each fold.\n",
    "    - roc_auc_scores - list\n",
    "        ROC-AUC scores for each fold.\n",
    "    - accuracy_scores - list\n",
    "        Accuracy scores for each fold.\n",
    "    - sensitivity_scores - list\n",
    "        Sensitivity scores for each fold.\n",
    "    - specificity_scores - list\n",
    "        Specificity scores for each fold.\n",
    "    '''\n",
    "\n",
    "    # Initialize your model (e.g., RandomForestClassifier)\n",
    "    model = classifier\n",
    "\n",
    "    # Lists to store evaluation metrics\n",
    "    roc_auc_scores = []\n",
    "    accuracy_scores = []\n",
    "    predicted_proba = []\n",
    "    observed = []\n",
    "    sensitivity_scores = []\n",
    "    specificity_scores = []\n",
    "    \n",
    "    # Converting data into days x features columns. \n",
    "    resh4 = DataReshaper4()\n",
    "    xgb_2d = resh4.transform(X_all_extr)\n",
    "    \n",
    "    X = xgb_2d\n",
    "    y = y_all_extr\n",
    "\n",
    "    cross_validator = StratifiedKFold(n_splits=n_splits, shuffle=True, random_state=42)\n",
    "\n",
    "    # Perform manual cross-validation\n",
    "    for i, (train_idx, val_idx) in enumerate(cross_validator.split(X, y)):\n",
    "        X_train, X_val = X[train_idx], X[val_idx]\n",
    "        y_train, y_val = y[train_idx], y[val_idx]\n",
    "\n",
    "\n",
    "        # Fitting the model to acquire roc_auc, accuracy, sensitiv./specific.\n",
    "        model.fit(X_train, y_train)\n",
    "        y_pred_proba = model.predict_proba(X_val)\n",
    "        y_pred_class = (y_pred_proba[:, 1] >= 0.5).astype(int)\n",
    "        \n",
    "        # Storing predicted probabilities and true values for this fold.\n",
    "        predicted_proba.append(y_pred_proba[:, 1])\n",
    "        observed.append(y_val)\n",
    "        \n",
    "        # Calculating accuracy and ROC-AUC for this fold, adding to lists.\n",
    "        roc_extr = roc_auc_score(y_val, y_pred_proba[:, 1])\n",
    "        accu_extr = accuracy_score(y_val, y_pred_class)\n",
    "        \n",
    "        # Storing ROC-AUC and accuracy for this fold\n",
    "        roc_auc_scores.append(roc_extr)\n",
    "        accuracy_scores.append(accu_extr)\n",
    "        \n",
    "        # Calculating the confusion matrix for this fold.\n",
    "        conf_matrix = confusion_matrix(y_val, y_pred_class)\n",
    "        \n",
    "        # Calculating sensitivity and specificity for this fold.\n",
    "        tn, fp, fn, tp = conf_matrix.ravel()\n",
    "        sensitivity = tp / (tp + fn)\n",
    "        specificity = tn / (tn + fp)\n",
    "        \n",
    "        # Storing sensitivity and specificity for this fold.\n",
    "        sensitivity_scores.append(sensitivity)\n",
    "        specificity_scores.append(specificity)\n",
    "\n",
    "    if n_splits == 10:\n",
    "        roc_low_conf = mean(roc_auc_scores) - 1.96*(np.std(roc_auc_scores))\n",
    "        roc_up_conf = mean(roc_auc_scores) + 1.96*(np.std(roc_auc_scores))\n",
    "        ac_low_conf = mean(accuracy_scores) - 1.96*(np.std(accuracy_scores))\n",
    "        ac_up_conf = mean(accuracy_scores) + 1.96*(np.std(accuracy_scores))\n",
    "\n",
    "        print(f\"ROC-AUC 95% CI: {roc_low_conf.round(3)} - {roc_up_conf.round(3)}\")\n",
    "        print(f\"Accuracy 95% CI: {ac_low_conf.round(3)} - {ac_up_conf.round(3)}\")\n",
    "\n",
    "    # Printing the metrics    \n",
    "    print(f\"Accuracy score: {np.mean(accuracy_scores).round(3)}\")\n",
    "    print(f\"ROC-AUC score: {np.mean(roc_auc_scores).round(3)}\")\n",
    "    print(f\"Sensitivity scores: {np.mean(sensitivity_scores).round(3)}\")\n",
    "    print(f\"Specificity scores: {np.mean(specificity).round(3)}\")\n",
    "\n",
    "    return (predicted_proba, observed, roc_auc_scores, accuracy_scores, sensitivity_scores,\n",
    "    specificity_scores)"
   ]
  },
  {
   "cell_type": "markdown",
   "metadata": {},
   "source": [
    "#### Setting the WINDOW_SIZE"
   ]
  },
  {
   "cell_type": "code",
   "execution_count": 102,
   "metadata": {},
   "outputs": [],
   "source": [
    "WINDOW_SIZE = 4"
   ]
  },
  {
   "cell_type": "markdown",
   "metadata": {},
   "source": [
    "## XGBoost"
   ]
  },
  {
   "cell_type": "markdown",
   "metadata": {},
   "source": [
    "#### Wrangling the data for 1D-CNN"
   ]
  },
  {
   "cell_type": "code",
   "execution_count": 61,
   "metadata": {},
   "outputs": [],
   "source": [
    "# Generating the input dataframe for XGBoost with pre-defined window size.\n",
    "split_df, outcome = split_xgb(outcome_df.drop('level_0', axis=1).reset_index(), WINDOW_SIZE)\n",
    "# Droping the outcome columns.\n",
    "split_df = split_df.drop('case', axis=1)\n",
    "split_df = split_df.drop('shock', axis=1)\n",
    "split_df = split_df.drop('level_0', axis=1)"
   ]
  },
  {
   "cell_type": "code",
   "execution_count": 62,
   "metadata": {},
   "outputs": [],
   "source": [
    "# Creating an empty array of needed dimensions (samples, features, days)\n",
    "N_FEAT = len(split_df.columns) - 2 # subtracting patient_id and index.\n",
    "N_PT = int(len(split_df)/WINDOW_SIZE)\n",
    "xgb_dat = np.empty((N_PT, N_FEAT, WINDOW_SIZE))\n",
    "# Gathering patietn IDs\n",
    "pt_id = split_df['patient_id'].unique()\n",
    "pt_count = 0\n",
    "# Iterating through patient IDs.\n",
    "for n in pt_id:\n",
    "    pt_count \n",
    "    pt_data = split_df[split_df['patient_id']==n].copy()\n",
    "\n",
    "    # Iterating through features to add their value on different dats as a Series.\n",
    "    for i in range(len(VENTR_FEATURES)):\n",
    "        xgb_dat[pt_count, i, :] = np.array(pt_data[VENTR_FEATURES].iloc[:, i])\n",
    "    pt_count += 1"
   ]
  },
  {
   "cell_type": "markdown",
   "metadata": {},
   "source": [
    "### Running the XGBoost model"
   ]
  },
  {
   "cell_type": "code",
   "execution_count": null,
   "metadata": {},
   "outputs": [],
   "source": [
    "classifier = xgb.XGBClassifier()\n",
    "(pred_y, true_y, roc_auc_scores, accuracy_scores, sensitivity_scores,\n",
    "specificity_scores) = running_one_sample_model(xgb_dat, np.array(outcome),\n",
    "classifier, n_splits=10)"
   ]
  },
  {
   "cell_type": "markdown",
   "metadata": {},
   "source": [
    "#### Plotting ROC curve"
   ]
  },
  {
   "cell_type": "code",
   "execution_count": 66,
   "metadata": {},
   "outputs": [
    {
     "data": {
      "image/png": "[encoded data removed]",
      "text/plain": [
       "<Figure size 640x480 with 1 Axes>"
      ]
     },
     "metadata": {},
     "output_type": "display_data"
    }
   ],
   "source": [
    "# Concatenate the observed and predicted_proba lists across all folds\n",
    "observed_all = np.concatenate(true_y)\n",
    "predicted_proba_all = np.concatenate(pred_y)\n",
    "\n",
    "# Compute ROC curve and AUC for the combined data\n",
    "fpr, tpr, _ = roc_curve(observed_all, predicted_proba_all)\n",
    "roc_auc_cnn = auc(fpr, tpr)\n",
    "\n",
    "# Calculate sensitivity and specificity from the ROC curve data\n",
    "sensitivity = tpr\n",
    "specificity = 1 - fpr\n",
    "\n",
    "# Plot sensitivity-specificity curve\n",
    "plt.figure()\n",
    "plt.plot(1 - specificity, sensitivity, color='darkorange', lw=2, label='ROC curve (area = %0.2f)' % roc_auc_cnn)\n",
    "plt.xlabel('1 - Specificity')\n",
    "plt.ylabel('Sensitivity')\n",
    "plt.title('Sensitivity-Specificity Curve')\n",
    "plt.legend(loc=\"lower right\")\n",
    "plt.grid()\n",
    "plt.show()"
   ]
  },
  {
   "cell_type": "markdown",
   "metadata": {},
   "source": [
    "#### Calculating best concurrent specificity and sensitivity"
   ]
  },
  {
   "cell_type": "code",
   "execution_count": null,
   "metadata": {},
   "outputs": [],
   "source": [
    "# Calculate Youden's J statistic for each threshold\n",
    "youden_j_values = np.array(sensitivity) + np.array(specificity) - 1\n",
    "thresholds = np.arange(0.0, 1.01, 0.01)\n",
    "\n",
    "# Find the index of the threshold that maximizes Youden's J value\n",
    "best_threshold_index = np.argmax(youden_j_values)\n",
    "\n",
    "# Get the corresponding threshold and its sensitivity and specificity values\n",
    "best_threshold = thresholds[best_threshold_index]\n",
    "best_sensitivity = sensitivity[best_threshold_index]\n",
    "best_specificity = specificity[best_threshold_index]\n",
    "\n",
    "# Desired specificity level\n",
    "desired_specificity = 0.9\n",
    "\n",
    "# Find the index in the specificity array that is closest to the desired specificity\n",
    "closest_index = np.argmin(np.abs(specificity - desired_specificity))\n",
    "\n",
    "# Get the corresponding sensitivity value at the closest index\n",
    "sensitivity_at_desired_specificity = sensitivity[closest_index]\n",
    "\n",
    "print(f\"Sensitivity at {desired_specificity*100}% Specificity:\", sensitivity_at_desired_specificity)\n",
    "\n",
    "print(f\"Best Threshold: {best_threshold:.4f}\")\n",
    "print(f\"Best Sensitivity: {best_sensitivity:.4f}\")\n",
    "print(f\"Best Specificity: {best_specificity:.4f}\")"
   ]
  },
  {
   "cell_type": "markdown",
   "metadata": {},
   "source": [
    "## CNN"
   ]
  },
  {
   "cell_type": "markdown",
   "metadata": {},
   "source": [
    "#### Building Pipeline"
   ]
  },
  {
   "cell_type": "code",
   "execution_count": 91,
   "metadata": {},
   "outputs": [],
   "source": [
    "\n",
    "N_FEAT = outcome_df.shape[1]-6\n",
    "n_splits = 10"
   ]
  },
  {
   "cell_type": "code",
   "execution_count": 92,
   "metadata": {},
   "outputs": [],
   "source": [
    "class DataReshaper1(BaseEstimator, TransformerMixin):\n",
    "    \"\"\"\n",
    "    A custom data transformation class that reshapes 3D data into a tabular\n",
    "    format with both patient ID and time in the rows.\n",
    "\n",
    "    It can be used as part of a data preprocessing pipeline to reshape 3D data\n",
    "    into a tabular format.\n",
    "\n",
    "    Methods:\n",
    "    __init__(self): Constructor method, initializes the object.\n",
    "    fit(self, X, y=None): Fit method, returns the object itself.\n",
    "    transform(self, X): Transforms the input 3D data into a tabular DataFrame.\n",
    "    \"\"\"\n",
    "    def __init__(self):\n",
    "        pass\n",
    "\n",
    "    def fit(self, X, y=None):\n",
    "        return self\n",
    "\n",
    "    def transform(self, X):\n",
    "        \"\"\"\n",
    "        Transforms the input 3D data into a tabular DataFrame.\n",
    "\n",
    "        Parameters:\n",
    "        ----------\n",
    "        X np.matrix\n",
    "            The input 3D data with patient, day, and feature dimensions.\n",
    "\n",
    "        Returns:\n",
    "        --------\n",
    "        df pd.DataFrame\n",
    "            The tabular DataFrame with reshaped data.\n",
    "        \"\"\"\n",
    "        # Calculate the number of features (columns) in the original DataFrame.\n",
    "        n_feat = X.shape[2]\n",
    "\n",
    "        # Create an empty list to store data rows.\n",
    "        rows = []\n",
    "\n",
    "        # Loop through each patient and each day in the window.\n",
    "        for pt_count in range(X.shape[0]):\n",
    "            for i in range(WINDOW_SIZE):\n",
    "                # Get the data for the current day and patient.\n",
    "                data_for_day = X[pt_count, i, :]\n",
    "                pt_id = pt_count + 1  # Assuming patient_id starts from 1.\n",
    "\n",
    "                # Create a dictionary to store the row data.\n",
    "                row_data = {'patient_id': pt_id, 'index': i + 1}\n",
    "\n",
    "                # Add the VENTR_FEATURES data to the dictionary.\n",
    "                for j, feature in enumerate(VENTR_FEATURES):\n",
    "                    row_data[feature] = data_for_day[j]\n",
    "\n",
    "                # Append the row data to the list of rows.\n",
    "                rows.append(row_data)\n",
    "\n",
    "            # Create a pandas DataFrame from the list of rows.\n",
    "            df = pd.DataFrame(rows)\n",
    "        return df"
   ]
  },
  {
   "cell_type": "code",
   "execution_count": 93,
   "metadata": {},
   "outputs": [],
   "source": [
    "# Utilising the min max scaler class for data normalisation. \n",
    "scaler = MinMaxScaler()"
   ]
  },
  {
   "cell_type": "code",
   "execution_count": 94,
   "metadata": {},
   "outputs": [],
   "source": [
    "class DataReshaper2(BaseEstimator, TransformerMixin):\n",
    "    def __init__(self):\n",
    "        '''\n",
    "        A custom data transformation class that reshapes data to a 3D numpy\n",
    "        array for Convolutional Neural Networks (CNNs). \n",
    "\n",
    "        It can be used as part of a data preprocessing pipeline to reshape data\n",
    "        for CNNs.\n",
    "\n",
    "        Methods:\n",
    "        __init__(self): Constructor method, initializes the object.\n",
    "        fit(self, X, y=None): Fit method, returns the object itself.\n",
    "        transform(self, X): Transforms the input data into a 3D numpy array.\n",
    "        '''\n",
    "\n",
    "    def fit(self, X, y=None):\n",
    "        return self\n",
    "\n",
    "    def transform(self, X):\n",
    "        '''\n",
    "        Transforms the input data into a format suitable for CNNs. \n",
    "        Utilises previous data labels to create a 3D numpy array after scaling\n",
    "        with MinMaxScaler().\n",
    "\n",
    "        Parameters:\n",
    "        ----------\n",
    "        X pd.DataFrame\n",
    "            The input data with scaled values.\n",
    "\n",
    "        Returns:\n",
    "        --------\n",
    "        cnn_dat np.ndarray\n",
    "            The transformed data in a format suitable for CNNs.'''\n",
    "\n",
    "        column_names = ['patient_id']+['index']+VENTR_FEATURES\n",
    "        scaled_df = pd.DataFrame(X, columns=column_names)\n",
    "\n",
    "        n_feat = len(scaled_df.columns) - 2 # subtracting patient_id and index.\n",
    "        n_pt = int(len(scaled_df)/WINDOW_SIZE)\n",
    "        cnn_dat = np.empty((n_pt, WINDOW_SIZE, n_feat))\n",
    "\n",
    "        pt_id = scaled_df['patient_id'].unique()\n",
    "        pt_count = 0\n",
    "        # Looping through patient IDs.\n",
    "        for n in pt_id:\n",
    "            pt_count \n",
    "            pt_data = scaled_df[scaled_df['patient_id']==n].copy()\n",
    "\n",
    "            # Looping through days in the window.\n",
    "            for i in range(WINDOW_SIZE):\n",
    "                cnn_dat[pt_count, i, :] = np.array(pt_data[VENTR_FEATURES].iloc[i])\n",
    "            pt_count += 1\n",
    "\n",
    "        return cnn_dat"
   ]
  },
  {
   "cell_type": "code",
   "execution_count": 95,
   "metadata": {},
   "outputs": [],
   "source": [
    "def create_binary_classifier_model_1(learning_rate=0.001):\n",
    "    \"\"\"\n",
    "    Creates a binary classifier model using Convolutional Neural Networks (CNNs).\n",
    "\n",
    "    This function creates a binary classifier model using TensorFlow and Keras.\n",
    "    The model architecture consists of two Conv1D layers with ReLU activation,\n",
    "    followed by a Flatten layer, two Dense layers with ReLU activation, and an\n",
    "    output Dense layer with a sigmoid activation for binary classification.\n",
    "\n",
    "    Parameters:\n",
    "    ----------\n",
    "    learning_rate float, optional\n",
    "        The learning rate for the Adam optimizer. Default is 0.001.\n",
    "\n",
    "    Returns:\n",
    "    --------\n",
    "    model tf.keras.Model\n",
    "        The binary classifier model.\n",
    "    \"\"\"\n",
    "    model = Sequential([\n",
    "        Conv1D(filters=64, kernel_size=2, activation='relu', input_shape=(WINDOW_SIZE, N_FEAT)),\n",
    "        Conv1D(filters=64, kernel_size=2, activation='relu'),\n",
    "        Dropout(0,5),\n",
    "        Flatten(),\n",
    "        Dense(100, activation='relu'),\n",
    "        Dropout(0,5),\n",
    "        Dense(1, activation='sigmoid')  # Output layer with one neuron and sigmoid activation\n",
    "    ])\n",
    "    \n",
    "    optimizer = tf.keras.optimizers.Adam(learning_rate=learning_rate)  # Specify the learning rate for Adam optimizer\n",
    "    model.compile(loss='binary_crossentropy', optimizer=optimizer, metrics='accuracy')\n",
    "    \n",
    "    return model\n"
   ]
  },
  {
   "cell_type": "code",
   "execution_count": 96,
   "metadata": {},
   "outputs": [],
   "source": [
    "# Create the pipeline\n",
    "pipeline_1 = Pipeline([\n",
    "    ('reshape1', DataReshaper1()),\n",
    "    ('scaler', MinMaxScaler()),\n",
    "    ('reshape2', DataReshaper2()),\n",
    "    ('cnn', KerasClassifier(model=create_binary_classifier_model_1, epochs=20, batch_size=32, validation_split=0.2))      \n",
    "])"
   ]
  },
  {
   "cell_type": "markdown",
   "metadata": {},
   "source": [
    "#### Wrangling the data for CNN"
   ]
  },
  {
   "cell_type": "code",
   "execution_count": 97,
   "metadata": {},
   "outputs": [],
   "source": [
    "# Slitting the data utilising the splitting function (xgb).\n",
    "split_df, outcome = split_xgb(outcome_df.drop(['level_0', 'Unnamed: 0'], axis=1).reset_index(), WINDOW_SIZE)\n",
    "# Dropping the outcome columns.\n",
    "split_df = split_df.drop('case', axis=1)\n",
    "split_df = split_df.drop('shock', axis=1)\n",
    "split_df = split_df.drop('level_0', axis=1)"
   ]
  },
  {
   "cell_type": "code",
   "execution_count": 98,
   "metadata": {},
   "outputs": [],
   "source": [
    "X_train = split_df.copy()\n",
    "y_train = outcome\n",
    "\n",
    "# Number of patients\n",
    "N_PT = int(len(X_train)/WINDOW_SIZE)\n",
    "\n",
    "# Creating an empty dataframe of correct dimensions (patients, days, predictors)\n",
    "cnn_dat = np.empty((N_PT, WINDOW_SIZE, N_FEAT))\n",
    "pt_id = X_train['patient_id'].unique()\n",
    "pt_count = 0\n",
    "\n",
    "# Iterating through patient IDs to access their data.\n",
    "for n in pt_id:\n",
    "    pt_count \n",
    "    pt_data = X_train[X_train['patient_id']==n].copy()\n",
    "\n",
    "    # Iterating through days in the window and adding all feature values to the days.\n",
    "    for i in range(WINDOW_SIZE):\n",
    "        cnn_dat[pt_count, i, :] = np.array(pt_data[VENTR_FEATURES].iloc[i])\n",
    "    pt_count += 1\n",
    "\n",
    "X_train = cnn_dat"
   ]
  },
  {
   "cell_type": "markdown",
   "metadata": {},
   "source": [
    "#### Pipeline Run - CNN"
   ]
  },
  {
   "cell_type": "code",
   "execution_count": null,
   "metadata": {},
   "outputs": [],
   "source": [
    "# Setting up stratified K-fold cross validation to return roc-auc scores\n",
    "strat_cv = StratifiedKFold(n_splits=n_splits, shuffle=True, random_state=42)\n",
    "roc_auc_scores = cross_val_score(pipeline_1, X_train, y_train, cv=strat_cv, scoring='roc_auc')"
   ]
  },
  {
   "cell_type": "code",
   "execution_count": null,
   "metadata": {},
   "outputs": [],
   "source": [
    "roc_auc_scores.mean()"
   ]
  },
  {
   "cell_type": "markdown",
   "metadata": {},
   "source": [
    "#### Manual Run - CNN"
   ]
  },
  {
   "cell_type": "code",
   "execution_count": null,
   "metadata": {},
   "outputs": [],
   "source": [
    "n_splits = 10\n",
    "\n",
    "# Setting up lists to hold outcome variables. \n",
    "observed = []\n",
    "predicted_proba = []\n",
    "roc_auc_scores = []\n",
    "accuracy_scores = []\n",
    "\n",
    "# Initialising cross-validator\n",
    "cross_validator = StratifiedKFold(n_splits=n_splits, shuffle=True, random_state=42)\n",
    "\n",
    "# Input arrays.\n",
    "X, y = cnn_dat, np.array(outcome)\n",
    "\n",
    "# Perform manual cross-validation\n",
    "for train_idx, val_idx in cross_validator.split(X, y):\n",
    "    X_train, X_val = X[train_idx], X[val_idx]\n",
    "    y_train, y_val = y[train_idx], y[val_idx]\n",
    "    \n",
    "    # CNN model\n",
    "    cnn_model = create_binary_classifier_model_1()\n",
    "\n",
    "    # Running the pipeline steps:\n",
    "    resh1 = DataReshaper1()\n",
    "    X_train = resh1.transform(X_train)\n",
    "    X_val = resh1.transform(X_val)\n",
    "\n",
    "    minmax = MinMaxScaler()\n",
    "    X_train = minmax.fit_transform(X_train)\n",
    "    X_val = minmax.transform(X_val)\n",
    "\n",
    "    resh2 = DataReshaper2()\n",
    "    X_train = resh2.transform(X_train)\n",
    "    X_val = resh2.transform(X_val)\n",
    "\n",
    "    # Training the model on the training data\n",
    "    cnn_model.fit(X_train, y_train, epochs=20, batch_size=32, verbose=0)\n",
    "\n",
    "    # Getting the predicted probabilities (scores) for positive class (class 1)\n",
    "    y_pred_probs = cnn_model.predict(X_val)\n",
    "    y_pred_class = (y_pred_probs >= 0.5).astype(int)\n",
    "\n",
    "    # Calculating the ROC-AUC score and accuracy\n",
    "    roc_auc = roc_auc_score(y_val, y_pred_probs)\n",
    "    accu_extr = accuracy_score(np.array(y_val), y_pred_class)\n",
    "\n",
    "    # Adding values to relevant lists\n",
    "    roc_auc_scores.append(roc_auc)\n",
    "    accuracy_scores.append(accu_extr)\n",
    "    observed.append(y_val)\n",
    "    predicted_proba.append(y_pred_probs)\n",
    "\n",
    "# Calculating confidence intervals on 10-fold cross validation\n",
    "if n_splits == 10:\n",
    "    roc_low_conf = mean(roc_auc_scores) - 1.96*(np.std(roc_auc_scores))\n",
    "    roc_up_conf = mean(roc_auc_scores) + 1.96*(np.std(roc_auc_scores))\n",
    "    ac_low_conf = mean(accuracy_scores) - 1.96*(np.std(accuracy_scores))\n",
    "    ac_up_conf = mean(accuracy_scores) + 1.96*(np.std(accuracy_scores))\n",
    "    print(f\"ROC-AUC 95% CI: {roc_low_conf.round(3)} - {roc_up_conf.round(3)}\")\n",
    "    print(f\"Accuracy 95% CI: {ac_low_conf.round(3)} - {ac_up_conf.round(3)}\")\n",
    "\n",
    "print(f\"ROC-AUC score: {np.mean(roc_auc_scores).round(3)}\")\n",
    "print(f\"Accuracy score: {np.mean(accuracy_scores).round(3)}\")\n",
    "\n",
    "# Calculate average accuracy across all folds\n",
    "np.array(roc_auc_scores).mean().round(3)"
   ]
  }
 ],
 "metadata": {
  "kernelspec": {
   "display_name": "Python 3.8.8 ('sktime_code')",
   "language": "python",
   "name": "python3"
  },
  "language_info": {
   "codemirror_mode": {
    "name": "ipython",
    "version": 3
   },
   "file_extension": ".py",
   "mimetype": "text/x-python",
   "name": "python",
   "nbconvert_exporter": "python",
   "pygments_lexer": "ipython3",
   "version": "3.8.8"
  },
  "vscode": {
   "interpreter": {
    "hash": "c9d480316e6260c80375bc5a8c5e8386ffb9384f976ee51805e9a6b8e3620163"
   }
  }
 },
 "nbformat": 4,
 "nbformat_minor": 4
}
