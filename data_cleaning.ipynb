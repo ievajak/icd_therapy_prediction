{
 "cells": [
  {
   "cell_type": "markdown",
   "metadata": {},
   "source": [
    "### Imports"
   ]
  },
  {
   "cell_type": "code",
   "execution_count": 1,
   "metadata": {},
   "outputs": [],
   "source": [
    "# import necessary libraries\n",
    "import pandas as pd\n",
    "import numpy as np\n",
    "import os\n",
    "import glob\n",
    "from statistics import mean"
   ]
  },
  {
   "cell_type": "code",
   "execution_count": 2,
   "metadata": {},
   "outputs": [],
   "source": [
    "# Seed value for the project.\n",
    "seed_value = 42"
   ]
  },
  {
   "cell_type": "code",
   "execution_count": 7,
   "metadata": {},
   "outputs": [],
   "source": [
    "# Outcome variables - as decided with the host organisation.\n",
    "# These values correspond to a ventricular fibrillation.\n",
    "OUTCOMES = [\n",
    "'ATP in VT/VF delivered',\n",
    "'ATP One Shot delivered',\n",
    "'VT1 therapy episodes',\n",
    "'VF episodes',\n",
    "'ATP in VT zones started',\n",
    "'ATP One Shot started',\n",
    "'ATP in VT zones successful',\n",
    "'ATP One Shot successful',\n",
    "'Shocks started',\n",
    "'Shocks aborted',\n",
    "'Shocks successful']\n",
    "\n",
    "# Feature variables specific to patients with single chamber ICDs (ventricular).\n",
    "VENTR_FEATURES = ['RV pacing impedance [ohm]',\n",
    " 'RV sensing amplitude (daily mean) [mV]',\n",
    " 'RV sensing amplitude (daily min.) [mV]',\n",
    " 'Daily shock lead impedance [ohm]',\n",
    " 'Right ven. pacing (RVp) [%]',\n",
    " 'VT1 monitoring episodes',\n",
    " 'VT1 therapy episodes',\n",
    " 'VT2 episodes',\n",
    " 'VF episodes',\n",
    " 'Episodes during temporary program',\n",
    " 'ATP in VT zones started',\n",
    " 'ATP in VT zones successful',\n",
    " 'ATP One Shot started',\n",
    " 'ATP One Shot successful',\n",
    " 'Shocks started',\n",
    " 'Shocks aborted',\n",
    " 'Shocks successful',\n",
    " 'Ineffective ven. max. energy shocks',\n",
    " 'Mean ventricular heart rate [bpm]',\n",
    " 'Mean ventricular heart rate at rest [bpm]',\n",
    " 'Patient activity [% of day]',\n",
    " 'ATP in VT/VF delivered',\n",
    " 'ATP One Shot delivered']"
   ]
  },
  {
   "cell_type": "markdown",
   "metadata": {},
   "source": [
    "### Accessing patient data files"
   ]
  },
  {
   "cell_type": "code",
   "execution_count": 8,
   "metadata": {},
   "outputs": [],
   "source": [
    "# Accessing the csv files. Each patient is represented by a different file. \n",
    "path = os.getcwd() + '/data/the_rest/full_data'\n",
    "csv_files = glob.glob(os.path.join(path, \"*.csv\"))\n"
   ]
  },
  {
   "cell_type": "markdown",
   "metadata": {},
   "source": [
    "### Defining Cases and Controls"
   ]
  },
  {
   "cell_type": "code",
   "execution_count": 9,
   "metadata": {},
   "outputs": [
    {
     "data": {
      "text/plain": [
       "{7, 73, 92, 175, 178, 181, 206}"
      ]
     },
     "execution_count": 9,
     "metadata": {},
     "output_type": "execute_result"
    }
   ],
   "source": [
    "# Generating cases and controls lists of patient IDs. \n",
    "case_path = os.getcwd() + '/data/the_rest/the_full_data/Deidentified_data/Cases'\n",
    "contr_path = os.getcwd() + '/data/the_rest/the_full_data/Deidentified_data/Controls'\n",
    "case_files = glob.glob(os.path.join(case_path, \"*.csv\"))\n",
    "contr_files = glob.glob(os.path.join(contr_path, \"*.csv\"))\n",
    "\n",
    "cases = []\n",
    "controls = []\n",
    "\n",
    "# Creating a list of cases IDs.\n",
    "for f in case_files:\n",
    "    to_replace = case_path + '/'\n",
    "    case_id = f.replace(to_replace, '')\n",
    "    case_id = case_id.replace('.csv', '')\n",
    "    cases.append(int(case_id))\n",
    "\n",
    "# Creating a list of control IDs.\n",
    "for f in contr_files:\n",
    "    to_replace = contr_path + '/'\n",
    "    contr_id = f.replace(to_replace, '')\n",
    "    contr_id = contr_id.replace('.csv', '')\n",
    "    controls.append(int(contr_id))\n",
    "\n",
    "# Creating a list of all patient IDs.\n",
    "all_patients = cases + controls\n",
    "\n",
    "# Checking which patients were not included. \n",
    "set(np.array(range(1,226))) - set(all_patients)"
   ]
  },
  {
   "cell_type": "markdown",
   "metadata": {},
   "source": [
    "### File integration"
   ]
  },
  {
   "cell_type": "code",
   "execution_count": 64,
   "metadata": {},
   "outputs": [],
   "source": [
    "# Creating a dataframe to store the integreated files. \n",
    "a_data = pd.DataFrame()\n",
    "time_ser_len = []\n",
    "  \n",
    "# Iteraing over the list of csv files\n",
    "for f in csv_files:\n",
    "    to_replace = path + '/'\n",
    "    patient_id = f.replace(to_replace, '')\n",
    "    patient_id = patient_id.replace('.csv', '')\n",
    "\n",
    "    # Reading the file\n",
    "    df = pd.read_csv(f)\n",
    "    # A list holding all the different lengths available.\n",
    "    time_ser_len.append(len(df))\n",
    "\n",
    "    # Adding a patient ID column with the patient's ID. \n",
    "    df['patient_id'] = [patient_id for i in range(len(df))]\n",
    "\n",
    "    # Adding a case/control column\n",
    "    if int(patient_id) in cases:\n",
    "        df['case'] = np.full(len(df), 1)\n",
    "    else:\n",
    "        df['case'] = np.full(len(df), 0)\n",
    "\n",
    "    # Concatenating the patients dataframe to the full dataframe. \n",
    "    if a_data.empty:\n",
    "        a_data = df\n",
    "    else:\n",
    "        a_data = pd.concat([a_data, df])"
   ]
  },
  {
   "cell_type": "markdown",
   "metadata": {},
   "source": [
    "### Post-integration cleaning"
   ]
  },
  {
   "cell_type": "code",
   "execution_count": 65,
   "metadata": {},
   "outputs": [],
   "source": [
    "all_data = a_data.copy()"
   ]
  },
  {
   "cell_type": "markdown",
   "metadata": {},
   "source": [
    "#### Replacing string values with float values"
   ]
  },
  {
   "cell_type": "code",
   "execution_count": 66,
   "metadata": {},
   "outputs": [],
   "source": [
    "# Deleting non-numerical symbols:\n",
    "all_data.loc[:, (\"RV sensing amplitude (daily min.) [mV]\",\n",
    "    \"RV sensing amplitude (daily mean) [mV]\")] = all_data.loc[:, (\"RV sensing amplitude (daily min.) [mV]\",\n",
    "    \"RV sensing amplitude (daily mean) [mV]\")].astype('str').replace('> 20.0', 20)\n",
    "\n",
    "all_data.loc[:, (\"RV sensing amplitude (daily min.) [mV]\",\n",
    "    \"RV sensing amplitude (daily mean) [mV]\")] = all_data.loc[:, (\"RV sensing amplitude (daily min.) [mV]\",\n",
    "    \"RV sensing amplitude (daily mean) [mV]\")].astype('str').replace('< 2.0', 2)\n",
    "\n",
    "all_data.loc[:, (\"RA sensing amplitude (daily min.) [mV]\",\n",
    "\"RA sensing amplitude (daily mean) [mV]\")] = all_data.loc[:, (\"RA sensing amplitude (daily min.) [mV]\",\n",
    "\"RA sensing amplitude (daily mean) [mV]\")].astype('str').replace('> 8.0', 8)\n",
    "\n",
    "all_data.loc[:, (\"RA sensing amplitude (daily min.) [mV]\",\n",
    "\"RA sensing amplitude (daily mean) [mV]\")] = all_data.loc[:, (\"RA sensing amplitude (daily min.) [mV]\",\n",
    "\"RA sensing amplitude (daily mean) [mV]\")].astype('str').replace('< 0.5', 0.5)\n",
    "\n",
    "# YES replaced with 1\n",
    "all_data.loc[:, (\"Atrial arrhythmia ongoing at end of mon. interv.\",\n",
    "\"Long ongoing atrial episode detected\", 'ATP One Shot delivered')] = all_data.loc[:, \n",
    "(\"Atrial arrhythmia ongoing at end of mon. interv.\",\n",
    "\"Long ongoing atrial episode detected\", 'ATP One Shot delivered')].astype('str').replace('YES', 1)\n",
    "\n",
    "# NO replaced with 0\n",
    "all_data.loc[:, (\"Atrial arrhythmia ongoing at end of mon. interv.\",\n",
    "\"Long ongoing atrial episode detected\", 'ATP One Shot delivered')] = all_data.loc[:, \n",
    "(\"Atrial arrhythmia ongoing at end of mon. interv.\",\n",
    "\"Long ongoing atrial episode detected\", 'ATP One Shot delivered')].astype('str').replace('NO', 0)\n",
    "\n",
    "# Replacing >110 to 110\n",
    "all_data.loc[:, 'Mean PVC/h'] = all_data.loc[:, \n",
    "'Mean PVC/h'].astype('str').replace('> 110', 110)\n",
    "\n",
    "# Replace >65534 with 65534\n",
    "all_data.loc[:, 'Atrial monitoring episodes'] = all_data.loc[:, \n",
    "'Atrial monitoring episodes'].astype('str').replace('> 65534', 65534)\n",
    "\n",
    "# Replace OFF with NaN:\n",
    "all_data.loc[:, (\"Thoracic impedance daily mean [ohm]\", \"RA pacing impedance [ohm]\")] = all_data.loc[:, \n",
    "(\"Thoracic impedance daily mean [ohm]\", \"RA pacing impedance [ohm]\")].astype('str').replace('OFF', np.nan)\n",
    "\n",
    "# Replace OFF with NaN:\n",
    "all_data.loc[:, ('Atrial burden [% of day]')] = all_data.loc[:, \n",
    "('Atrial burden [% of day]')].astype('str').replace('OFF', np.nan)\n",
    "\n",
    "# Replace \"OFF\" with NaN:\n",
    "all_data.loc[:, ('Long ongoing atrial episode detected')] = all_data.loc[:, \n",
    "('Long ongoing atrial episode detected')].astype('str').replace('OFF', np.nan)\n",
    "\n",
    "# Values than contain \"AUTO\":\n",
    "repl_auto = all_data['RA pulse amplitude [V]'][all_data['RA pulse amplitude [V]'].str.contains(\"AUTO\", na=False)].to_list()\n",
    "for i in repl_auto:\n",
    "    all_data.loc[:, ('RA pulse amplitude [V]')] = all_data.loc[:, \n",
    "    ('RA pulse amplitude [V]')].astype('str').replace(i, float(i[:-5]))\n",
    "    \n",
    "# NaN to 0\n",
    "all_data.loc[:, ('ATP in VT/VF delivered', 'ATP One Shot delivered')] = all_data.loc[:, \n",
    "('ATP in VT/VF delivered', 'ATP One Shot delivered')].astype('str').replace('nan', 0)\n",
    "\n",
    "# Deleting non-numerical symbols:\n",
    "all_data.loc[:, ('RV pacing impedance [ohm]')] = all_data.loc[:, \n",
    "('RV pacing impedance [ohm]')].astype('str').replace('< 200', 200)\n",
    "\n"
   ]
  },
  {
   "cell_type": "code",
   "execution_count": 67,
   "metadata": {},
   "outputs": [],
   "source": [
    "# Deleting non-numerical symbols:\n",
    "all_data.loc[:, ('RA pacing impedance [ohm]')] = all_data.loc[:, \n",
    "('RA pacing impedance [ohm]')].astype('str').replace('> 3000', 3000)\n",
    "\n",
    "# Replacing OFF with NaN.\n",
    "all_data.loc[:, ('VT1 zone limit [ms]', 'VT2 zone limit [ms]')] = all_data.loc[:, \n",
    "('VT1 zone limit [ms]', 'VT2 zone limit [ms]')].astype('str').replace('OFF', np.nan)"
   ]
  },
  {
   "cell_type": "markdown",
   "metadata": {},
   "source": [
    "#### Converting columns to float or integer datatype"
   ]
  },
  {
   "cell_type": "code",
   "execution_count": 68,
   "metadata": {},
   "outputs": [],
   "source": [
    "# Conberted to integers:\n",
    "all_data['patient_id'] = all_data['patient_id'].astype(int)\n",
    "all_data['Shocks successful'] = all_data['Shocks successful'].astype(int)\n",
    "\n",
    "# Converted to float values:\n",
    "all_data['RA sensing amplitude (daily mean) [mV]'] = all_data['RA sensing amplitude (daily mean) [mV]'].astype(float)\n",
    "all_data['RA sensing amplitude (daily min.) [mV]'] = all_data['RA sensing amplitude (daily min.) [mV]'].astype(float)\n",
    "all_data['RV sensing amplitude (daily mean) [mV]'] = all_data['RV sensing amplitude (daily mean) [mV]'].astype(float)\n",
    "all_data['RV sensing amplitude (daily min.) [mV]'] = all_data['RV sensing amplitude (daily min.) [mV]'].astype(float)\n",
    "all_data['Atrial burden [% of day]'] = all_data['Atrial burden [% of day]'].astype(float)\n",
    "all_data['Atrial monitoring episodes'] = all_data['Atrial monitoring episodes'].astype(float)\n",
    "all_data['Mean PVC/h'] = all_data['Mean PVC/h'].astype(float)\n",
    "all_data['Atrial arrhythmia ongoing at end of mon. interv.'] = all_data['Atrial arrhythmia ongoing at end of mon. interv.'].astype(float)\n",
    "all_data['Long ongoing atrial episode detected'] = all_data['Long ongoing atrial episode detected'].astype(float)\n",
    "all_data['Thoracic impedance daily mean [ohm]'] = all_data['Thoracic impedance daily mean [ohm]'].astype(float)\n",
    "all_data['ATP One Shot delivered'] = all_data['ATP One Shot delivered'].astype(float)\n",
    "all_data['ATP in VT/VF delivered'] = all_data['ATP in VT/VF delivered'].astype(float)\n",
    "all_data['RV pacing impedance [ohm]'] = all_data['RV pacing impedance [ohm]'].astype(float)\n",
    "all_data['RA pulse amplitude [V]'] = all_data['RA pulse amplitude [V]'].astype(float)\n",
    "all_data['RA pacing impedance [ohm]'] = all_data['RA pacing impedance [ohm]'].astype(float)\n",
    "all_data['VT1 zone limit [ms]'] = all_data['VT1 zone limit [ms]'].astype(float)\n",
    "all_data['VT2 zone limit [ms]'] = all_data['VT2 zone limit [ms]'].astype(float)\n",
    "all_data['VF zone limit [ms]'] = all_data['VF zone limit [ms]'].astype(float)"
   ]
  },
  {
   "cell_type": "markdown",
   "metadata": {},
   "source": [
    "#### Comparing ICD settings between cases and controls"
   ]
  },
  {
   "cell_type": "code",
   "execution_count": 69,
   "metadata": {},
   "outputs": [],
   "source": [
    "grouped = all_data.groupby('patient_id')\n",
    "\n",
    "# Storing the settings in lists:\n",
    "cas_vt1 = []\n",
    "cas_vt2 = []\n",
    "cas_vf = []\n",
    "con_vt1 = []\n",
    "con_vt2 = []\n",
    "con_vf = []\n",
    "\n",
    "# Iterating through patient IDs and their data.\n",
    "for pt_id, pt_dt in grouped:\n",
    "    # Dropping NaN values in the parameter columns\n",
    "    cols_of_interest = pt_dt[['VT1 zone limit [ms]', 'VT2 zone limit [ms]', 'VF zone limit [ms]']].dropna(axis=0)\n",
    "    # Taking a mean of each column.\n",
    "    (vt1, vt2, vf) = cols_of_interest.mean(axis=0)\n",
    "\n",
    "    # If case, mean added to appropriate list.\n",
    "    if pt_id in cases:\n",
    "        cas_vt1.append(vt1)\n",
    "        cas_vt2.append(vt2)\n",
    "        cas_vf.append(vf)\n",
    "\n",
    "    # If control, mean added to appropriate list.\n",
    "    elif pt_id in controls:\n",
    "        con_vt1.append(vt1)\n",
    "        con_vt2.append(vt2)\n",
    "        con_vf.append(vf)\n",
    "\n",
    "# Creating a list of values corresponding to the 3 different parameters.\n",
    "param_case_contr = []\n",
    "for i in [cas_vt1, cas_vt2, cas_vf, con_vt1, con_vt2, con_vf]:\n",
    "    param_case_contr.append(np.array(i)[~np.isnan(np.array(i))].mean())"
   ]
  },
  {
   "cell_type": "markdown",
   "metadata": {},
   "source": [
    "### Excluding parameters with missing data (specific to atrial leads) \n",
    "Columns specific to atrial leads will be dropped."
   ]
  },
  {
   "cell_type": "code",
   "execution_count": 70,
   "metadata": {},
   "outputs": [],
   "source": [
    "# Creating a dataframe with percentages of missing values per column.\n",
    "percent_missing = all_data.isnull().sum() * 100 / len(all_data)\n",
    "missing_value_df = pd.DataFrame({'column_name': all_data.columns,\n",
    "                                 'percent_missing': percent_missing})\n",
    "missing_value_df.sort_values('percent_missing', inplace=True)\n",
    "\n",
    "# Dropping columns that have over 30% of missing data - atria specific columns.\n",
    "cols_to_drop = missing_value_df[missing_value_df['percent_missing']>30]['column_name'].to_list()\n",
    "all_data.drop(cols_to_drop, axis=1, inplace=True)"
   ]
  },
  {
   "cell_type": "markdown",
   "metadata": {},
   "source": [
    "### Excluding patients with >30% missing data per key variable."
   ]
  },
  {
   "cell_type": "code",
   "execution_count": 71,
   "metadata": {},
   "outputs": [
    {
     "data": {
      "text/plain": [
       "RV pacing impedance [ohm]                       0\n",
       "RV sensing amplitude (daily mean) [mV]       1628\n",
       "RV sensing amplitude (daily min.) [mV]       1628\n",
       "Daily shock lead impedance [ohm]                2\n",
       "Right ven. pacing (RVp) [%]                     0\n",
       "VT1 monitoring episodes                         0\n",
       "VT1 therapy episodes                            0\n",
       "VT2 episodes                                    0\n",
       "VF episodes                                     0\n",
       "Episodes during temporary program               0\n",
       "ATP in VT zones started                         0\n",
       "ATP in VT zones successful                      0\n",
       "ATP One Shot started                            0\n",
       "ATP One Shot successful                         0\n",
       "Shocks started                                  0\n",
       "Shocks aborted                                  0\n",
       "Shocks successful                               0\n",
       "Ineffective ven. max. energy shocks             0\n",
       "Mean ventricular heart rate [bpm]               0\n",
       "Mean ventricular heart rate at rest [bpm]     105\n",
       "Patient activity [% of day]                     0\n",
       "ATP in VT/VF delivered                          0\n",
       "ATP One Shot delivered                          0\n",
       "dtype: int64"
      ]
     },
     "execution_count": 71,
     "metadata": {},
     "output_type": "execute_result"
    }
   ],
   "source": [
    "# Checking which of the outcome variables have missing data.\n",
    "# Patients will be excluded, if there is missing data in key variables.\n",
    "miss_days = all_data.reset_index().copy()\n",
    "miss_days[VENTR_FEATURES].isna().sum()"
   ]
  },
  {
   "cell_type": "code",
   "execution_count": 72,
   "metadata": {},
   "outputs": [
    {
     "name": "stdout",
     "output_type": "stream",
     "text": [
      "RV 86\n",
      "RV 93\n",
      "RV 96\n",
      "RV 155\n",
      "RV 224\n"
     ]
    }
   ],
   "source": [
    "# Grouping patients by patient ID.\n",
    "grouped = miss_days.groupby('patient_id')\n",
    "\n",
    "# Initiating lists to hold patient IDs.\n",
    "thor_miss = []\n",
    "rv_miss = []\n",
    "mean_miss = []\n",
    "\n",
    "# Iterating through patients, recording if they have >30% missing data. \n",
    "for i, pt_df in grouped:\n",
    "    # Right ventricle impedance.\n",
    "    if pt_df['RV sensing amplitude (daily mean) [mV]'].isna().sum()/len(pt_df) >0.3:\n",
    "        rv_miss.append(i)\n",
    "        print(\"RV\", i)\n",
    "    # Significant variable in previous studies\n",
    "    elif pt_df['Mean ventricular heart rate at rest [bpm]'].isna().sum()/len(pt_df) >0.3:\n",
    "        mean_miss.append(i)\n",
    "        print(\"Mean\", i)\n",
    "\n",
    "# Joining the lists.\n",
    "pt_miss_data = thor_miss + rv_miss + mean_miss\n",
    "len(set(pt_miss_data))\n",
    "\n",
    "# Excluding these patients from the dataframe. \n",
    "for i in pt_miss_data:\n",
    "    miss_days = miss_days[miss_days.patient_id != i]"
   ]
  },
  {
   "cell_type": "markdown",
   "metadata": {},
   "source": [
    "### Identifying consecutive missing days in the data"
   ]
  },
  {
   "cell_type": "code",
   "execution_count": 73,
   "metadata": {},
   "outputs": [],
   "source": [
    "# Sorting the data based on patient ID and transmission day.\n",
    "miss_days.sort_values(by=['patient_id', 'Transmission received on (days)'], inplace=True)\n",
    "\n",
    "# Grouping the data by patient ID.\n",
    "grouped = miss_days.groupby('patient_id')\n",
    "\n",
    "# Calculating the differences between consecutive transmission days values.\n",
    "miss_days['time_gap'] = grouped['Transmission received on (days)'].diff().abs()\n",
    "\n",
    "# Identifying the biggest gaps in each patient's data.\n",
    "biggest_gaps = miss_days.groupby('patient_id')['time_gap'].max()\n",
    "\n",
    "# Getting the index values for two largest time gaps.\n",
    "nearest_values = miss_days.groupby('patient_id').apply(lambda group: group.nlargest(2, 'time_gap')).reset_index(drop=True)\n",
    "\n",
    "# Counting the total amount of missed days per patient.\n",
    "missed_days_per_patient = miss_days.groupby('patient_id')['time_gap'].sum()"
   ]
  },
  {
   "cell_type": "code",
   "execution_count": 74,
   "metadata": {},
   "outputs": [
    {
     "data": {
      "text/html": [
       "<div>\n",
       "<style scoped>\n",
       "    .dataframe tbody tr th:only-of-type {\n",
       "        vertical-align: middle;\n",
       "    }\n",
       "\n",
       "    .dataframe tbody tr th {\n",
       "        vertical-align: top;\n",
       "    }\n",
       "\n",
       "    .dataframe thead th {\n",
       "        text-align: right;\n",
       "    }\n",
       "</style>\n",
       "<table border=\"1\" class=\"dataframe\">\n",
       "  <thead>\n",
       "    <tr style=\"text-align: right;\">\n",
       "      <th></th>\n",
       "      <th>time_gap</th>\n",
       "    </tr>\n",
       "    <tr>\n",
       "      <th>patient_id</th>\n",
       "      <th></th>\n",
       "    </tr>\n",
       "  </thead>\n",
       "  <tbody>\n",
       "    <tr>\n",
       "      <th>30</th>\n",
       "      <td>14.998658</td>\n",
       "    </tr>\n",
       "    <tr>\n",
       "      <th>40</th>\n",
       "      <td>14.124491</td>\n",
       "    </tr>\n",
       "    <tr>\n",
       "      <th>65</th>\n",
       "      <td>14.124398</td>\n",
       "    </tr>\n",
       "    <tr>\n",
       "      <th>75</th>\n",
       "      <td>14.040637</td>\n",
       "    </tr>\n",
       "    <tr>\n",
       "      <th>56</th>\n",
       "      <td>14.040475</td>\n",
       "    </tr>\n",
       "    <tr>\n",
       "      <th>199</th>\n",
       "      <td>13.999398</td>\n",
       "    </tr>\n",
       "    <tr>\n",
       "      <th>125</th>\n",
       "      <td>13.998588</td>\n",
       "    </tr>\n",
       "    <tr>\n",
       "      <th>64</th>\n",
       "      <td>13.998403</td>\n",
       "    </tr>\n",
       "    <tr>\n",
       "      <th>195</th>\n",
       "      <td>13.997674</td>\n",
       "    </tr>\n",
       "    <tr>\n",
       "      <th>121</th>\n",
       "      <td>13.997338</td>\n",
       "    </tr>\n",
       "    <tr>\n",
       "      <th>18</th>\n",
       "      <td>13.957014</td>\n",
       "    </tr>\n",
       "    <tr>\n",
       "      <th>70</th>\n",
       "      <td>13.956620</td>\n",
       "    </tr>\n",
       "    <tr>\n",
       "      <th>191</th>\n",
       "      <td>12.999456</td>\n",
       "    </tr>\n",
       "    <tr>\n",
       "      <th>28</th>\n",
       "      <td>12.999444</td>\n",
       "    </tr>\n",
       "    <tr>\n",
       "      <th>53</th>\n",
       "      <td>12.998704</td>\n",
       "    </tr>\n",
       "    <tr>\n",
       "      <th>67</th>\n",
       "      <td>12.998623</td>\n",
       "    </tr>\n",
       "    <tr>\n",
       "      <th>118</th>\n",
       "      <td>12.997581</td>\n",
       "    </tr>\n",
       "    <tr>\n",
       "      <th>9</th>\n",
       "      <td>12.083287</td>\n",
       "    </tr>\n",
       "    <tr>\n",
       "      <th>68</th>\n",
       "      <td>12.040625</td>\n",
       "    </tr>\n",
       "    <tr>\n",
       "      <th>188</th>\n",
       "      <td>11.999896</td>\n",
       "    </tr>\n",
       "    <tr>\n",
       "      <th>87</th>\n",
       "      <td>11.998819</td>\n",
       "    </tr>\n",
       "    <tr>\n",
       "      <th>116</th>\n",
       "      <td>11.997940</td>\n",
       "    </tr>\n",
       "    <tr>\n",
       "      <th>32</th>\n",
       "      <td>10.999606</td>\n",
       "    </tr>\n",
       "    <tr>\n",
       "      <th>138</th>\n",
       "      <td>10.999525</td>\n",
       "    </tr>\n",
       "    <tr>\n",
       "      <th>172</th>\n",
       "      <td>10.999306</td>\n",
       "    </tr>\n",
       "    <tr>\n",
       "      <th>42</th>\n",
       "      <td>10.998831</td>\n",
       "    </tr>\n",
       "    <tr>\n",
       "      <th>133</th>\n",
       "      <td>10.998056</td>\n",
       "    </tr>\n",
       "    <tr>\n",
       "      <th>22</th>\n",
       "      <td>10.591771</td>\n",
       "    </tr>\n",
       "    <tr>\n",
       "      <th>37</th>\n",
       "      <td>10.084363</td>\n",
       "    </tr>\n",
       "    <tr>\n",
       "      <th>82</th>\n",
       "      <td>10.040961</td>\n",
       "    </tr>\n",
       "  </tbody>\n",
       "</table>\n",
       "</div>"
      ],
      "text/plain": [
       "             time_gap\n",
       "patient_id           \n",
       "30          14.998658\n",
       "40          14.124491\n",
       "65          14.124398\n",
       "75          14.040637\n",
       "56          14.040475\n",
       "199         13.999398\n",
       "125         13.998588\n",
       "64          13.998403\n",
       "195         13.997674\n",
       "121         13.997338\n",
       "18          13.957014\n",
       "70          13.956620\n",
       "191         12.999456\n",
       "28          12.999444\n",
       "53          12.998704\n",
       "67          12.998623\n",
       "118         12.997581\n",
       "9           12.083287\n",
       "68          12.040625\n",
       "188         11.999896\n",
       "87          11.998819\n",
       "116         11.997940\n",
       "32          10.999606\n",
       "138         10.999525\n",
       "172         10.999306\n",
       "42          10.998831\n",
       "133         10.998056\n",
       "22          10.591771\n",
       "37          10.084363\n",
       "82          10.040961"
      ]
     },
     "execution_count": 74,
     "metadata": {},
     "output_type": "execute_result"
    }
   ],
   "source": [
    "# Sorting to deal with the biggest gaps through editing the original files. \n",
    "gaps = pd.DataFrame(biggest_gaps)\n",
    "gaps.sort_values('time_gap', ascending=False)[:30]"
   ]
  },
  {
   "cell_type": "code",
   "execution_count": 75,
   "metadata": {},
   "outputs": [
    {
     "data": {
      "text/html": [
       "<div>\n",
       "<style scoped>\n",
       "    .dataframe tbody tr th:only-of-type {\n",
       "        vertical-align: middle;\n",
       "    }\n",
       "\n",
       "    .dataframe tbody tr th {\n",
       "        vertical-align: top;\n",
       "    }\n",
       "\n",
       "    .dataframe thead th {\n",
       "        text-align: right;\n",
       "    }\n",
       "</style>\n",
       "<table border=\"1\" class=\"dataframe\">\n",
       "  <thead>\n",
       "    <tr style=\"text-align: right;\">\n",
       "      <th></th>\n",
       "      <th>Transmission received on (days)</th>\n",
       "      <th>patient_id</th>\n",
       "      <th>time_gap</th>\n",
       "    </tr>\n",
       "  </thead>\n",
       "  <tbody>\n",
       "    <tr>\n",
       "      <th>56</th>\n",
       "      <td>-2565.055266</td>\n",
       "      <td>30</td>\n",
       "      <td>14.998658</td>\n",
       "    </tr>\n",
       "    <tr>\n",
       "      <th>76</th>\n",
       "      <td>-2561.871470</td>\n",
       "      <td>40</td>\n",
       "      <td>14.124491</td>\n",
       "    </tr>\n",
       "    <tr>\n",
       "      <th>126</th>\n",
       "      <td>-2272.028854</td>\n",
       "      <td>65</td>\n",
       "      <td>14.124398</td>\n",
       "    </tr>\n",
       "    <tr>\n",
       "      <th>146</th>\n",
       "      <td>-2034.056262</td>\n",
       "      <td>75</td>\n",
       "      <td>14.040637</td>\n",
       "    </tr>\n",
       "    <tr>\n",
       "      <th>108</th>\n",
       "      <td>-2390.981262</td>\n",
       "      <td>56</td>\n",
       "      <td>14.040475</td>\n",
       "    </tr>\n",
       "    <tr>\n",
       "      <th>378</th>\n",
       "      <td>-500.083843</td>\n",
       "      <td>199</td>\n",
       "      <td>13.999398</td>\n",
       "    </tr>\n",
       "    <tr>\n",
       "      <th>238</th>\n",
       "      <td>-231.997095</td>\n",
       "      <td>125</td>\n",
       "      <td>13.998588</td>\n",
       "    </tr>\n",
       "    <tr>\n",
       "      <th>124</th>\n",
       "      <td>-2136.074769</td>\n",
       "      <td>64</td>\n",
       "      <td>13.998403</td>\n",
       "    </tr>\n",
       "    <tr>\n",
       "      <th>370</th>\n",
       "      <td>-807.951852</td>\n",
       "      <td>195</td>\n",
       "      <td>13.997674</td>\n",
       "    </tr>\n",
       "    <tr>\n",
       "      <th>230</th>\n",
       "      <td>-1288.911690</td>\n",
       "      <td>121</td>\n",
       "      <td>13.997338</td>\n",
       "    </tr>\n",
       "    <tr>\n",
       "      <th>32</th>\n",
       "      <td>-3132.024120</td>\n",
       "      <td>18</td>\n",
       "      <td>13.957014</td>\n",
       "    </tr>\n",
       "    <tr>\n",
       "      <th>136</th>\n",
       "      <td>-2139.159387</td>\n",
       "      <td>70</td>\n",
       "      <td>13.956620</td>\n",
       "    </tr>\n",
       "  </tbody>\n",
       "</table>\n",
       "</div>"
      ],
      "text/plain": [
       "     Transmission received on (days)  patient_id   time_gap\n",
       "56                      -2565.055266          30  14.998658\n",
       "76                      -2561.871470          40  14.124491\n",
       "126                     -2272.028854          65  14.124398\n",
       "146                     -2034.056262          75  14.040637\n",
       "108                     -2390.981262          56  14.040475\n",
       "378                      -500.083843         199  13.999398\n",
       "238                      -231.997095         125  13.998588\n",
       "124                     -2136.074769          64  13.998403\n",
       "370                      -807.951852         195  13.997674\n",
       "230                     -1288.911690         121  13.997338\n",
       "32                      -3132.024120          18  13.957014\n",
       "136                     -2139.159387          70  13.956620"
      ]
     },
     "execution_count": 75,
     "metadata": {},
     "output_type": "execute_result"
    }
   ],
   "source": [
    "nearest_values[['Transmission received on (days)', 'patient_id', 'time_gap']][nearest_values['time_gap']>13].sort_values('time_gap', ascending=False)"
   ]
  },
  {
   "cell_type": "markdown",
   "metadata": {},
   "source": [
    "### Dropping transmissions received on the same day"
   ]
  },
  {
   "cell_type": "code",
   "execution_count": 76,
   "metadata": {},
   "outputs": [],
   "source": [
    "# Converting the transmission reseived on days values to an integer index. \n",
    "miss_days['Transmission received on (days)'] = miss_days['Transmission received on (days)'].abs().round(1)\n",
    "miss_days['Transmission received on (days)'] = miss_days['Transmission received on (days)'].apply(np.floor).astype(int)\n",
    "miss_days.sort_values(by=['patient_id', 'Transmission received on (days)'], inplace=True)\n",
    "\n",
    "# Droping rows if the data was already received on the same day - keeping first.\n",
    "miss_days = miss_days.drop_duplicates(subset=['patient_id', 'Transmission received on (days)'], keep='first')"
   ]
  },
  {
   "cell_type": "markdown",
   "metadata": {},
   "source": [
    "### Imputing data"
   ]
  },
  {
   "cell_type": "code",
   "execution_count": 77,
   "metadata": {},
   "outputs": [],
   "source": [
    "# Group the data by patient_id\n",
    "grouped = miss_days.groupby('patient_id')\n",
    "\n",
    "# Creating a new DataFrame with the complete sequence of days for each patient\n",
    "complete_data = pd.DataFrame()\n",
    "for patient_id, group in grouped:\n",
    "    # Getting the full range of days\n",
    "    min_day = group['Transmission received on (days)'].min()\n",
    "    max_day = group['Transmission received on (days)'].max()+1\n",
    "    # Creating a dataframe of the full range\n",
    "    all_days = np.arange(min_day, max_day)\n",
    "    idx = np.arange(0, len(all_days))\n",
    "    patient_ar = np.full(len(all_days), patient_id)\n",
    "    patient_data = pd.DataFrame({'Transmission received on (days)': all_days, 'patient_id': patient_ar, 'index': idx})\n",
    "    # Adding patient data to the full data\n",
    "    complete_data = pd.concat([complete_data, patient_data])\n",
    "\n",
    "# Merging the full range dataframe to the original, to include missed days.\n",
    "imputed_data = complete_data.merge(miss_days, on=['Transmission received on (days)', 'patient_id'], how='left')\n",
    "\n",
    "# Last observation carried forward imputation.\n",
    "imputed_data = imputed_data.groupby('patient_id').apply(lambda x : x.ffill()).reset_index(drop=True)\n",
    "\n",
    "# Cleaning the index values\n",
    "imputed_data.drop('index_y', axis=1, inplace=True)\n",
    "imputed_data.rename(columns={'index_x':'index'}, inplace=True)"
   ]
  },
  {
   "cell_type": "code",
   "execution_count": 78,
   "metadata": {},
   "outputs": [
    {
     "name": "stdout",
     "output_type": "stream",
     "text": [
      "355.716894977169\n"
     ]
    },
    {
     "data": {
      "text/plain": [
       "123.0545123196666"
      ]
     },
     "execution_count": 78,
     "metadata": {},
     "output_type": "execute_result"
    }
   ],
   "source": [
    "# Counting the mean length and standard deviation of patient data.\n",
    "lengths = [len(imputed_data[imputed_data['patient_id']==i]) for i in imputed_data.patient_id.unique()]\n",
    "print(mean(lengths))\n",
    "np.std(lengths)"
   ]
  },
  {
   "cell_type": "markdown",
   "metadata": {},
   "source": [
    "### Outcome: ATP, ICD shock events summarised in the 'shock' column\n",
    "Converting the outcome variables (n=11) to 0 or 1 in 'shock' column."
   ]
  },
  {
   "cell_type": "code",
   "execution_count": 79,
   "metadata": {},
   "outputs": [],
   "source": [
    "# Creating an outcome dataframe with all the features.\n",
    "outcome_df = imputed_data[['patient_id', 'case', 'index']+VENTR_FEATURES].copy().reset_index()"
   ]
  },
  {
   "cell_type": "code",
   "execution_count": 80,
   "metadata": {},
   "outputs": [],
   "source": [
    "# Grouping patients by their ID.\n",
    "patient_groups = outcome_df.groupby('patient_id')\n",
    "\n",
    "# Creating a dataframe to count the number of outcomes in the data.\n",
    "outcome_count = pd.DataFrame()\n",
    "\n",
    "# Looping through patient dataframes.\n",
    "for _, patient_df in patient_groups:\n",
    "    # Calculating the difference between consecutive rows, fill NaN with 0.\n",
    "    diffs = patient_df[OUTCOMES].diff(axis=0).fillna(0)\n",
    "\n",
    "    # If any increase in score between days, adding 1 in 'shock' column.\n",
    "    has_shock = diffs.gt(0).any(axis=1).astype(int)\n",
    "    \n",
    "    diffs = diffs.gt(0)\n",
    "    diffs['patient_id'] = patient_df['patient_id']\n",
    "    outcome_count = pd.concat([outcome_count, diffs])\n",
    "\n",
    "    # Updating the 'shock' column.\n",
    "    outcome_df.loc[patient_df.index, 'shock'] = has_shock"
   ]
  },
  {
   "cell_type": "markdown",
   "metadata": {},
   "source": [
    "#### Creating a table with the number of outcome values"
   ]
  },
  {
   "cell_type": "code",
   "execution_count": 81,
   "metadata": {},
   "outputs": [
    {
     "data": {
      "text/html": [
       "<div>\n",
       "<style scoped>\n",
       "    .dataframe tbody tr th:only-of-type {\n",
       "        vertical-align: middle;\n",
       "    }\n",
       "\n",
       "    .dataframe tbody tr th {\n",
       "        vertical-align: top;\n",
       "    }\n",
       "\n",
       "    .dataframe thead th {\n",
       "        text-align: right;\n",
       "    }\n",
       "</style>\n",
       "<table border=\"1\" class=\"dataframe\">\n",
       "  <thead>\n",
       "    <tr style=\"text-align: right;\">\n",
       "      <th></th>\n",
       "      <th>Total Events</th>\n",
       "      <th>Patients Affected</th>\n",
       "    </tr>\n",
       "  </thead>\n",
       "  <tbody>\n",
       "    <tr>\n",
       "      <th>ATP in VT/VF delivered</th>\n",
       "      <td>3</td>\n",
       "      <td>3</td>\n",
       "    </tr>\n",
       "    <tr>\n",
       "      <th>ATP One Shot delivered</th>\n",
       "      <td>10</td>\n",
       "      <td>8</td>\n",
       "    </tr>\n",
       "    <tr>\n",
       "      <th>VT1 therapy episodes</th>\n",
       "      <td>32</td>\n",
       "      <td>5</td>\n",
       "    </tr>\n",
       "    <tr>\n",
       "      <th>VF episodes</th>\n",
       "      <td>35</td>\n",
       "      <td>27</td>\n",
       "    </tr>\n",
       "    <tr>\n",
       "      <th>ATP in VT zones started</th>\n",
       "      <td>150</td>\n",
       "      <td>22</td>\n",
       "    </tr>\n",
       "    <tr>\n",
       "      <th>ATP One Shot started</th>\n",
       "      <td>30</td>\n",
       "      <td>20</td>\n",
       "    </tr>\n",
       "    <tr>\n",
       "      <th>ATP in VT zones successful</th>\n",
       "      <td>140</td>\n",
       "      <td>20</td>\n",
       "    </tr>\n",
       "    <tr>\n",
       "      <th>ATP One Shot successful</th>\n",
       "      <td>10</td>\n",
       "      <td>9</td>\n",
       "    </tr>\n",
       "    <tr>\n",
       "      <th>Shocks started</th>\n",
       "      <td>47</td>\n",
       "      <td>29</td>\n",
       "    </tr>\n",
       "    <tr>\n",
       "      <th>Shocks aborted</th>\n",
       "      <td>14</td>\n",
       "      <td>11</td>\n",
       "    </tr>\n",
       "    <tr>\n",
       "      <th>Shocks successful</th>\n",
       "      <td>37</td>\n",
       "      <td>24</td>\n",
       "    </tr>\n",
       "  </tbody>\n",
       "</table>\n",
       "</div>"
      ],
      "text/plain": [
       "                            Total Events  Patients Affected\n",
       "ATP in VT/VF delivered                 3                  3\n",
       "ATP One Shot delivered                10                  8\n",
       "VT1 therapy episodes                  32                  5\n",
       "VF episodes                           35                 27\n",
       "ATP in VT zones started              150                 22\n",
       "ATP One Shot started                  30                 20\n",
       "ATP in VT zones successful           140                 20\n",
       "ATP One Shot successful               10                  9\n",
       "Shocks started                        47                 29\n",
       "Shocks aborted                        14                 11\n",
       "Shocks successful                     37                 24"
      ]
     },
     "execution_count": 81,
     "metadata": {},
     "output_type": "execute_result"
    }
   ],
   "source": [
    "#  Number of patients affected by each outcome\n",
    "num_affect = [len(outcome_count[outcome_count[i]==1].patient_id.unique()) for i in OUTCOMES]\n",
    "np.array(num_affect)\n",
    "\n",
    "# Dataframe of events and patients affected.\n",
    "out_count = pd.DataFrame(index=outcome_count.sum()[:-1].index)\n",
    "out_count['Total Events'] = outcome_count.sum()[:-1]\n",
    "out_count['Patients Affected'] = num_affect\n",
    "out_count"
   ]
  },
  {
   "cell_type": "code",
   "execution_count": 82,
   "metadata": {},
   "outputs": [
    {
     "data": {
      "text/plain": [
       "182.0"
      ]
     },
     "execution_count": 82,
     "metadata": {},
     "output_type": "execute_result"
    }
   ],
   "source": [
    "# Checking the total number of events\n",
    "outcome_df['shock'].sum()"
   ]
  },
  {
   "cell_type": "markdown",
   "metadata": {},
   "source": [
    "#### Checking for incorrect labelling of cases and controls."
   ]
  },
  {
   "cell_type": "code",
   "execution_count": 83,
   "metadata": {},
   "outputs": [
    {
     "data": {
      "text/plain": [
       "{176}"
      ]
     },
     "execution_count": 83,
     "metadata": {},
     "output_type": "execute_result"
    }
   ],
   "source": [
    "# Cases that had shocks:\n",
    "true_cas = outcome_df['patient_id'].loc[outcome_df[\"case\"] == 1].loc[outcome_df['shock']==1].unique()\n",
    "\n",
    "# All recorded cases:\n",
    "all_cas = outcome_df['patient_id'].loc[outcome_df[\"case\"] == 1].unique()\n",
    "\n",
    "# Difference between ture and recorded cases. Highlights cases without shocks.\n",
    "set(all_cas) - set(true_cas)"
   ]
  },
  {
   "cell_type": "code",
   "execution_count": 58,
   "metadata": {},
   "outputs": [
    {
     "data": {
      "text/plain": [
       "array([], dtype=int64)"
      ]
     },
     "execution_count": 58,
     "metadata": {},
     "output_type": "execute_result"
    }
   ],
   "source": [
    "# Controls that had shocks:\n",
    "outcome_df['patient_id'].loc[outcome_df[\"case\"] == 0].loc[outcome_df['shock']==1].unique()"
   ]
  },
  {
   "cell_type": "code",
   "execution_count": 75,
   "metadata": {},
   "outputs": [
    {
     "data": {
      "text/html": [
       "<div>\n",
       "<style scoped>\n",
       "    .dataframe tbody tr th:only-of-type {\n",
       "        vertical-align: middle;\n",
       "    }\n",
       "\n",
       "    .dataframe tbody tr th {\n",
       "        vertical-align: top;\n",
       "    }\n",
       "\n",
       "    .dataframe thead th {\n",
       "        text-align: right;\n",
       "    }\n",
       "</style>\n",
       "<table border=\"1\" class=\"dataframe\">\n",
       "  <thead>\n",
       "    <tr style=\"text-align: right;\">\n",
       "      <th></th>\n",
       "      <th>index</th>\n",
       "      <th>patient_id</th>\n",
       "      <th>case</th>\n",
       "      <th>shock</th>\n",
       "    </tr>\n",
       "  </thead>\n",
       "  <tbody>\n",
       "    <tr>\n",
       "      <th>58637</th>\n",
       "      <td>267</td>\n",
       "      <td>169</td>\n",
       "      <td>1.0</td>\n",
       "      <td>1.0</td>\n",
       "    </tr>\n",
       "  </tbody>\n",
       "</table>\n",
       "</div>"
      ],
      "text/plain": [
       "       index  patient_id  case  shock\n",
       "58637    267         169   1.0    1.0"
      ]
     },
     "execution_count": 75,
     "metadata": {},
     "output_type": "execute_result"
    }
   ],
   "source": [
    "# Looking for the specific day of when the control had the shock. \n",
    "outcome_df[['index', 'patient_id', 'case', 'shock']].loc[outcome_df['patient_id']==169].loc[outcome_df[\"case\"] == 1].loc[outcome_df['shock']==1]"
   ]
  },
  {
   "cell_type": "code",
   "execution_count": 76,
   "metadata": {},
   "outputs": [],
   "source": [
    "# Saving the cleaned dataframe:\n",
    "outcome_df.to_csv('cleaned_df.csv')"
   ]
  }
 ],
 "metadata": {
  "kernelspec": {
   "display_name": "Python 3.8.8 ('sktime_code')",
   "language": "python",
   "name": "python3"
  },
  "language_info": {
   "codemirror_mode": {
    "name": "ipython",
    "version": 3
   },
   "file_extension": ".py",
   "mimetype": "text/x-python",
   "name": "python",
   "nbconvert_exporter": "python",
   "pygments_lexer": "ipython3",
   "version": "3.8.8"
  },
  "vscode": {
   "interpreter": {
    "hash": "c9d480316e6260c80375bc5a8c5e8386ffb9384f976ee51805e9a6b8e3620163"
   }
  }
 },
 "nbformat": 4,
 "nbformat_minor": 4
}
